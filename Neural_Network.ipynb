{
  "cells": [
    {
      "cell_type": "code",
      "execution_count": 2,
      "metadata": {
        "id": "0wbM0meUV_8q"
      },
      "outputs": [],
      "source": [
        "!pip install -q kaggle"
      ]
    },
    {
      "cell_type": "code",
      "execution_count": 3,
      "metadata": {
        "colab": {
          "base_uri": "https://localhost:8080/",
          "height": 91
        },
        "id": "okwfQXOeWF_F",
        "outputId": "19767c21-eab0-4bc1-fe9c-6c52110c7eac"
      },
      "outputs": [
        {
          "output_type": "display_data",
          "data": {
            "text/plain": [
              "<IPython.core.display.HTML object>"
            ],
            "text/html": [
              "\n",
              "     <input type=\"file\" id=\"files-e75dba2e-6d4f-498a-8e06-f529581d5e76\" name=\"files[]\" multiple disabled\n",
              "        style=\"border:none\" />\n",
              "     <output id=\"result-e75dba2e-6d4f-498a-8e06-f529581d5e76\">\n",
              "      Upload widget is only available when the cell has been executed in the\n",
              "      current browser session. Please rerun this cell to enable.\n",
              "      </output>\n",
              "      <script>// Copyright 2017 Google LLC\n",
              "//\n",
              "// Licensed under the Apache License, Version 2.0 (the \"License\");\n",
              "// you may not use this file except in compliance with the License.\n",
              "// You may obtain a copy of the License at\n",
              "//\n",
              "//      http://www.apache.org/licenses/LICENSE-2.0\n",
              "//\n",
              "// Unless required by applicable law or agreed to in writing, software\n",
              "// distributed under the License is distributed on an \"AS IS\" BASIS,\n",
              "// WITHOUT WARRANTIES OR CONDITIONS OF ANY KIND, either express or implied.\n",
              "// See the License for the specific language governing permissions and\n",
              "// limitations under the License.\n",
              "\n",
              "/**\n",
              " * @fileoverview Helpers for google.colab Python module.\n",
              " */\n",
              "(function(scope) {\n",
              "function span(text, styleAttributes = {}) {\n",
              "  const element = document.createElement('span');\n",
              "  element.textContent = text;\n",
              "  for (const key of Object.keys(styleAttributes)) {\n",
              "    element.style[key] = styleAttributes[key];\n",
              "  }\n",
              "  return element;\n",
              "}\n",
              "\n",
              "// Max number of bytes which will be uploaded at a time.\n",
              "const MAX_PAYLOAD_SIZE = 100 * 1024;\n",
              "\n",
              "function _uploadFiles(inputId, outputId) {\n",
              "  const steps = uploadFilesStep(inputId, outputId);\n",
              "  const outputElement = document.getElementById(outputId);\n",
              "  // Cache steps on the outputElement to make it available for the next call\n",
              "  // to uploadFilesContinue from Python.\n",
              "  outputElement.steps = steps;\n",
              "\n",
              "  return _uploadFilesContinue(outputId);\n",
              "}\n",
              "\n",
              "// This is roughly an async generator (not supported in the browser yet),\n",
              "// where there are multiple asynchronous steps and the Python side is going\n",
              "// to poll for completion of each step.\n",
              "// This uses a Promise to block the python side on completion of each step,\n",
              "// then passes the result of the previous step as the input to the next step.\n",
              "function _uploadFilesContinue(outputId) {\n",
              "  const outputElement = document.getElementById(outputId);\n",
              "  const steps = outputElement.steps;\n",
              "\n",
              "  const next = steps.next(outputElement.lastPromiseValue);\n",
              "  return Promise.resolve(next.value.promise).then((value) => {\n",
              "    // Cache the last promise value to make it available to the next\n",
              "    // step of the generator.\n",
              "    outputElement.lastPromiseValue = value;\n",
              "    return next.value.response;\n",
              "  });\n",
              "}\n",
              "\n",
              "/**\n",
              " * Generator function which is called between each async step of the upload\n",
              " * process.\n",
              " * @param {string} inputId Element ID of the input file picker element.\n",
              " * @param {string} outputId Element ID of the output display.\n",
              " * @return {!Iterable<!Object>} Iterable of next steps.\n",
              " */\n",
              "function* uploadFilesStep(inputId, outputId) {\n",
              "  const inputElement = document.getElementById(inputId);\n",
              "  inputElement.disabled = false;\n",
              "\n",
              "  const outputElement = document.getElementById(outputId);\n",
              "  outputElement.innerHTML = '';\n",
              "\n",
              "  const pickedPromise = new Promise((resolve) => {\n",
              "    inputElement.addEventListener('change', (e) => {\n",
              "      resolve(e.target.files);\n",
              "    });\n",
              "  });\n",
              "\n",
              "  const cancel = document.createElement('button');\n",
              "  inputElement.parentElement.appendChild(cancel);\n",
              "  cancel.textContent = 'Cancel upload';\n",
              "  const cancelPromise = new Promise((resolve) => {\n",
              "    cancel.onclick = () => {\n",
              "      resolve(null);\n",
              "    };\n",
              "  });\n",
              "\n",
              "  // Wait for the user to pick the files.\n",
              "  const files = yield {\n",
              "    promise: Promise.race([pickedPromise, cancelPromise]),\n",
              "    response: {\n",
              "      action: 'starting',\n",
              "    }\n",
              "  };\n",
              "\n",
              "  cancel.remove();\n",
              "\n",
              "  // Disable the input element since further picks are not allowed.\n",
              "  inputElement.disabled = true;\n",
              "\n",
              "  if (!files) {\n",
              "    return {\n",
              "      response: {\n",
              "        action: 'complete',\n",
              "      }\n",
              "    };\n",
              "  }\n",
              "\n",
              "  for (const file of files) {\n",
              "    const li = document.createElement('li');\n",
              "    li.append(span(file.name, {fontWeight: 'bold'}));\n",
              "    li.append(span(\n",
              "        `(${file.type || 'n/a'}) - ${file.size} bytes, ` +\n",
              "        `last modified: ${\n",
              "            file.lastModifiedDate ? file.lastModifiedDate.toLocaleDateString() :\n",
              "                                    'n/a'} - `));\n",
              "    const percent = span('0% done');\n",
              "    li.appendChild(percent);\n",
              "\n",
              "    outputElement.appendChild(li);\n",
              "\n",
              "    const fileDataPromise = new Promise((resolve) => {\n",
              "      const reader = new FileReader();\n",
              "      reader.onload = (e) => {\n",
              "        resolve(e.target.result);\n",
              "      };\n",
              "      reader.readAsArrayBuffer(file);\n",
              "    });\n",
              "    // Wait for the data to be ready.\n",
              "    let fileData = yield {\n",
              "      promise: fileDataPromise,\n",
              "      response: {\n",
              "        action: 'continue',\n",
              "      }\n",
              "    };\n",
              "\n",
              "    // Use a chunked sending to avoid message size limits. See b/62115660.\n",
              "    let position = 0;\n",
              "    do {\n",
              "      const length = Math.min(fileData.byteLength - position, MAX_PAYLOAD_SIZE);\n",
              "      const chunk = new Uint8Array(fileData, position, length);\n",
              "      position += length;\n",
              "\n",
              "      const base64 = btoa(String.fromCharCode.apply(null, chunk));\n",
              "      yield {\n",
              "        response: {\n",
              "          action: 'append',\n",
              "          file: file.name,\n",
              "          data: base64,\n",
              "        },\n",
              "      };\n",
              "\n",
              "      let percentDone = fileData.byteLength === 0 ?\n",
              "          100 :\n",
              "          Math.round((position / fileData.byteLength) * 100);\n",
              "      percent.textContent = `${percentDone}% done`;\n",
              "\n",
              "    } while (position < fileData.byteLength);\n",
              "  }\n",
              "\n",
              "  // All done.\n",
              "  yield {\n",
              "    response: {\n",
              "      action: 'complete',\n",
              "    }\n",
              "  };\n",
              "}\n",
              "\n",
              "scope.google = scope.google || {};\n",
              "scope.google.colab = scope.google.colab || {};\n",
              "scope.google.colab._files = {\n",
              "  _uploadFiles,\n",
              "  _uploadFilesContinue,\n",
              "};\n",
              "})(self);\n",
              "</script> "
            ]
          },
          "metadata": {}
        },
        {
          "output_type": "stream",
          "name": "stdout",
          "text": [
            "Saving kaggle.json to kaggle.json\n"
          ]
        },
        {
          "output_type": "execute_result",
          "data": {
            "text/plain": [
              "{'kaggle.json': b'{\"username\":\"samridhimangla\",\"key\":\"57c5bd0e26fc93d00684402247314110\"}'}"
            ]
          },
          "metadata": {},
          "execution_count": 3
        }
      ],
      "source": [
        "from google.colab import files\n",
        "files.upload()"
      ]
    },
    {
      "cell_type": "code",
      "execution_count": 4,
      "metadata": {
        "id": "Zl74GfMaY5Kq"
      },
      "outputs": [],
      "source": [
        "!mkdir -p ~/.kaggle\n",
        "!cp kaggle.json ~/.kaggle/\n",
        "!chmod 600 ~/.kaggle/kaggle.json\n"
      ]
    },
    {
      "cell_type": "code",
      "execution_count": 5,
      "metadata": {
        "colab": {
          "base_uri": "https://localhost:8080/"
        },
        "id": "niS8bF4uY-kv",
        "outputId": "5b02371f-b0f1-43a7-bfb2-e036da31b0f6"
      },
      "outputs": [
        {
          "output_type": "stream",
          "name": "stdout",
          "text": [
            "Downloading digit-recognizer.zip to /content\n",
            "\r  0% 0.00/15.3M [00:00<?, ?B/s]\r 59% 9.00M/15.3M [00:00<00:00, 93.9MB/s]\n",
            "\r100% 15.3M/15.3M [00:00<00:00, 131MB/s] \n"
          ]
        }
      ],
      "source": [
        "!kaggle competitions download -c digit-recognizer"
      ]
    },
    {
      "cell_type": "code",
      "execution_count": 6,
      "metadata": {
        "colab": {
          "base_uri": "https://localhost:8080/"
        },
        "id": "se7Vg89pZ-mR",
        "outputId": "ed26fe0f-2735-4574-c289-5c4ceadb7886"
      },
      "outputs": [
        {
          "output_type": "stream",
          "name": "stdout",
          "text": [
            "Archive:  digit-recognizer.zip\n",
            "  inflating: sample_submission.csv   \n",
            "  inflating: test.csv                \n",
            "  inflating: train.csv               \n"
          ]
        }
      ],
      "source": [
        "!unzip digit-recognizer.zip"
      ]
    },
    {
      "cell_type": "code",
      "execution_count": 7,
      "metadata": {
        "id": "Q5mYY2_caFwL"
      },
      "outputs": [],
      "source": [
        "import os\n",
        "import random\n",
        "import numpy as np\n",
        "import pandas as pd\n",
        "import sys\n",
        "from matplotlib import pyplot as plt\n",
        "from sklearn.model_selection import train_test_split\n"
      ]
    },
    {
      "cell_type": "code",
      "execution_count": 8,
      "metadata": {
        "id": "_xrJp4R0afty"
      },
      "outputs": [],
      "source": [
        "train=pd.read_csv(\"/content/train.csv\")\n",
        "test=pd.read_csv(\"/content/test.csv\")"
      ]
    },
    {
      "cell_type": "code",
      "execution_count": 9,
      "metadata": {
        "colab": {
          "base_uri": "https://localhost:8080/"
        },
        "id": "ZcnXaBJebmzF",
        "outputId": "6e4cf0eb-c165-43e9-c5ff-9d497bf1a1c6"
      },
      "outputs": [
        {
          "output_type": "execute_result",
          "data": {
            "text/plain": [
              "(42000, 785)"
            ]
          },
          "metadata": {},
          "execution_count": 9
        }
      ],
      "source": [
        "train.shape"
      ]
    },
    {
      "cell_type": "code",
      "execution_count": 10,
      "metadata": {
        "colab": {
          "base_uri": "https://localhost:8080/"
        },
        "id": "nDCsrw42brg0",
        "outputId": "af6bcbcb-40c3-431d-aada-e5165ebdd33b"
      },
      "outputs": [
        {
          "output_type": "stream",
          "name": "stdout",
          "text": [
            "0\n",
            "9\n"
          ]
        }
      ],
      "source": [
        "print(train['label'].min())\n",
        "print(train['label'].max())"
      ]
    },
    {
      "cell_type": "code",
      "execution_count": 11,
      "metadata": {
        "colab": {
          "base_uri": "https://localhost:8080/"
        },
        "id": "YVxWm2b4mmR_",
        "outputId": "4820c7f8-72ef-40ee-b935-95f1f9f48aab"
      },
      "outputs": [
        {
          "output_type": "stream",
          "name": "stdout",
          "text": [
            "Index(['pixel0', 'pixel1', 'pixel2', 'pixel3', 'pixel4', 'pixel5', 'pixel6',\n",
            "       'pixel7', 'pixel8', 'pixel9',\n",
            "       ...\n",
            "       'pixel774', 'pixel775', 'pixel776', 'pixel777', 'pixel778', 'pixel779',\n",
            "       'pixel780', 'pixel781', 'pixel782', 'pixel783'],\n",
            "      dtype='object', length=784)\n"
          ]
        }
      ],
      "source": [
        "print(test.columns)"
      ]
    },
    {
      "cell_type": "code",
      "execution_count": 31,
      "metadata": {
        "id": "Dh3F0dazbvSV"
      },
      "outputs": [],
      "source": [
        "def createImageData(raw):\n",
        "  y=raw['label'].values\n",
        "  x=raw[[i for i in raw.columns if i!='label']].values\n",
        "  x_train,x_val,y_train,y_val=train_test_split(x,y,test_size=0.1)\n",
        "  return (x_train,y_train),(x_val,y_val)\n",
        "\n"
      ]
    },
    {
      "cell_type": "code",
      "execution_count": 32,
      "metadata": {
        "id": "2r1T6UZwPMa7"
      },
      "outputs": [],
      "source": [
        "def one_hot_encoding(labels):\n",
        "  var=np.zeros((10,1))\n",
        "  var[labels]=1\n",
        "  return var\n",
        "\n"
      ]
    },
    {
      "cell_type": "code",
      "execution_count": 33,
      "metadata": {
        "id": "qPD3gjB4WnPY"
      },
      "outputs": [],
      "source": [
        "(x_train,y_train),(x_val,y_val)=createImageData(train)\n",
        "#training data\n",
        "train_data= [np.reshape(x,(784,1)) for x in x_train]\n",
        "train_data=np.array(train_data,dtype=np.float64)\n",
        "#normalize\n",
        "min_val=np.min(train_data)\n",
        "max_val=np.max(train_data)\n",
        "train_data=(train_data-min_val)/(max_val-min_val)\n",
        "train_data=np.round(train_data,5)\n",
        "y_train.resize(y_train.shape[0],1)\n",
        "y_train = y_train.astype(int).reshape(-1)\n",
        "train_label=[one_hot_encoding(y_train[j]) for j in range(len(y_train))]\n",
        "training_data=list(zip(train_data,train_label))\n",
        "#validation data\n",
        "train_val=[np.reshape(x,(784,1)) for x in x_val]\n",
        "#normalizing validation data\n",
        "train_val=np.array(train_val,dtype=np.float64)\n",
        "min_val=np.min(train_val)\n",
        "max_val=np.max(train_val)\n",
        "train_val=(train_val-min_val)/(max_val-min_val)\n",
        "train_val=np.round(train_val,5)\n",
        "y_val.resize(y_val.shape[0],1)\n",
        "y_val = y_val.astype(int).reshape(-1)\n",
        "validation_data=list(zip(train_val,y_val))\n",
        "\n",
        "\n"
      ]
    },
    {
      "cell_type": "code",
      "source": [
        "train_val[0].shape"
      ],
      "metadata": {
        "colab": {
          "base_uri": "https://localhost:8080/"
        },
        "id": "qdCg7Ner5EoB",
        "outputId": "a7ed1c3a-349a-44f7-8412-27308132ce29"
      },
      "execution_count": 16,
      "outputs": [
        {
          "output_type": "execute_result",
          "data": {
            "text/plain": [
              "(784, 1)"
            ]
          },
          "metadata": {},
          "execution_count": 16
        }
      ]
    },
    {
      "cell_type": "code",
      "execution_count": 34,
      "metadata": {
        "id": "-T9M2SCAcLb0"
      },
      "outputs": [],
      "source": [
        "# Have defined the Cross Entropy Cost function\n",
        "class CrossEntropyCost():\n",
        "\n",
        "  def fn(a,y):\n",
        "    return np.sum(np.nan_to_num(-y*np.log(a)-(1-y)*np.log(1-a)))\n",
        "\n",
        "  def delta(z,a,y):\n",
        "    return (a-y)\n",
        "\n"
      ]
    },
    {
      "cell_type": "code",
      "execution_count": 40,
      "metadata": {
        "id": "a01o9iobprVq"
      },
      "outputs": [],
      "source": [
        "# Defining the Neural Network\n",
        "class Network():\n",
        "\n",
        "  def __init__(self,sizes,cost=CrossEntropyCost):\n",
        "    self.num_layers=len(sizes)\n",
        "    self.sizes=sizes\n",
        "    self.weight_initializer()\n",
        "    self.cost=cost\n",
        "\n",
        "  def weight_initializer(self):\n",
        "    self.biases=[np.random.randn(y,1) for y in self.sizes[1:]]\n",
        "    self.weights=[np.random.randn(y,x)/np.sqrt(x) for x, y in zip(self.sizes[:-1],self.sizes[1:])]\n",
        "\n",
        "  def feedforward(self,a):\n",
        "    for b,w in zip(self.biases,self.weights):\n",
        "      a=sigmoid(np.dot(w,a)+b)\n",
        "    return a\n",
        "\n",
        "  def SGD(self,training_data,epochs,mini_batch_size,eta,lmbda,evaluation_data=None, monitor_evaluation_cost=False, monitor_evaluation_accuracy=False, monitor_training_cost=False, monitor_training_accuracy=False):\n",
        "\n",
        "    n=len(training_data)\n",
        "    if evaluation_data:\n",
        "      n_data=len(evaluation_data)\n",
        "    evaluation_cost, evaluation_accuracy=[],[]\n",
        "    training_cost, training_accuracy=[],[]\n",
        "    for j in range(epochs):\n",
        "      random.shuffle(training_data)\n",
        "      mini_batches=[training_data[k:k+mini_batch_size] for k in range(0,n,mini_batch_size)]\n",
        "      for mini_batch in mini_batches:\n",
        "        self.update_mini_batch(mini_batch,eta,lmbda,len(training_data))\n",
        "      cost = self.total_cost(training_data, lmbda)\n",
        "      training_cost.append(cost)\n",
        "      print(f\"Cost on training data: {cost}\")\n",
        "\n",
        "      accuracy = self.accuracy(training_data, convert=True)\n",
        "      training_accuracy.append(accuracy/n)\n",
        "      print(f\"Accuracy on training data: {accuracy} / {n}\")\n",
        "\n",
        "      cost = self.total_cost(evaluation_data, lmbda, convert=True)\n",
        "      evaluation_cost.append(cost)\n",
        "      print (f\"Cost on evaluation data: {cost}\")\n",
        "\n",
        "      accuracy = self.accuracy(evaluation_data)\n",
        "      evaluation_accuracy.append(accuracy/n_data)\n",
        "      print (f\"Accuracy on evaluation data: {self.accuracy(evaluation_data)} / { n_data}\")\n",
        "    return evaluation_cost, evaluation_accuracy,training_cost, training_accuracy\n",
        "\n",
        "  def update_mini_batch(self, mini_batch, eta, lmbda, n):\n",
        "        nabla_b = [np.zeros(b.shape) for b in self.biases]\n",
        "        nabla_w = [np.zeros(w.shape) for w in self.weights]\n",
        "        for x, y in mini_batch:\n",
        "            delta_nabla_b, delta_nabla_w = self.backprop(x, y)\n",
        "            nabla_b = [nb+dnb for nb, dnb in zip(nabla_b, delta_nabla_b)]\n",
        "            nabla_w = [nw+dnw for nw, dnw in zip(nabla_w, delta_nabla_w)]\n",
        "        self.weights = [(1-eta*(lmbda/n))*w-(eta/len(mini_batch))*nw\n",
        "                        for w, nw in zip(self.weights, nabla_w)]\n",
        "        self.biases = [b-(eta/len(mini_batch))*nb\n",
        "                       for b, nb in zip(self.biases, nabla_b)]\n",
        "\n",
        "  def backprop(self, x, y):\n",
        "\n",
        "        nabla_b = [np.zeros(b.shape) for b in self.biases]\n",
        "        nabla_w = [np.zeros(w.shape) for w in self.weights]\n",
        "        activation = x\n",
        "        activations = [x]\n",
        "        zs = []\n",
        "        for b, w in zip(self.biases, self.weights):\n",
        "            z = np.dot(w, activation)+b\n",
        "            zs.append(z)\n",
        "            activation = sigmoid(z)\n",
        "            activations.append(activation)\n",
        "        # backward pass\n",
        "        delta = (self.cost).delta(zs[-1], activations[-1], y)\n",
        "        nabla_b[-1] = delta\n",
        "        nabla_w[-1] = np.dot(delta, activations[-2].transpose())\n",
        "        for l in range(2, self.num_layers):\n",
        "            z = zs[-l]\n",
        "            sp = sigmoid_prime(z)\n",
        "            delta = np.dot(self.weights[-l+1].transpose(), delta) * sp\n",
        "            nabla_b[-l] = delta\n",
        "            nabla_w[-l] = np.dot(delta, activations[-l-1].transpose())\n",
        "        return (nabla_b, nabla_w)\n",
        "\n",
        "\n",
        "  def accuracy(self, data, convert=False):\n",
        "        if convert:\n",
        "            results = [(np.argmax(self.feedforward(x)), np.argmax(y))\n",
        "                       for (x, y) in data]\n",
        "        else:\n",
        "            results = [(np.argmax(self.feedforward(x)), y)\n",
        "                        for (x, y) in data]\n",
        "        return sum(int(x == y) for (x, y) in results)\n",
        "\n",
        "\n",
        "  def total_cost(self, data, lmbda, convert=False):\n",
        "        cost = 0.0\n",
        "        for x, y in data:\n",
        "            a = self.feedforward(x)\n",
        "            if convert: y = vectorized_result(y)\n",
        "            cost += self.cost.fn(a, y)/len(data)\n",
        "        cost += 0.5*(lmbda/len(data))*sum(\n",
        "            np.linalg.norm(w)**2 for w in self.weights)\n",
        "        return cost\n",
        "def vectorized_result(j):\n",
        "    e = np.zeros((10, 1))\n",
        "    e[j] = 1.0\n",
        "    return e\n",
        "\n",
        "def sigmoid(z):\n",
        "  return 1.0/(1.0+np.exp(-z))\n",
        "\n",
        "def sigmoid_prime(z):\n",
        "  return sigmoid(z)*(1-sigmoid(z))\n",
        "\n",
        "\n",
        "\n"
      ]
    },
    {
      "cell_type": "code",
      "source": [
        "net=Network([784,30,10],cost=CrossEntropyCost)\n",
        "evaluation_cost, evaluation_accuracy, training_cost, training_accuracy=net.SGD(training_data, 10, 64, 0.25, lmbda =0.0,evaluation_data=validation_data,monitor_evaluation_accuracy=True,monitor_evaluation_cost=True,monitor_training_accuracy=True,monitor_training_cost=True)\n",
        "\n",
        "epoch=10\n",
        "import matplotlib.pyplot as plt\n",
        "\n",
        "plt.figure(figsize=(10,6))\n",
        "\n",
        "plt.subplot(1,2,1)\n",
        "plt.plot(range(1,epoch+1),training_cost,label=\"Training cost\",color=\"blue\")\n",
        "plt.plot(range(1,epoch+1),evaluation_cost,label=\"Validation cost\",color=\"red\")\n",
        "plt.xlabel(\"Epochs\")\n",
        "plt.ylabel(\"Cost\")\n",
        "plt.legend()\n",
        "plt.grid()\n",
        "\n",
        "plt.subplot(1,2,2)\n",
        "plt.plot(range(1,epoch+1),training_accuracy,label=\"Training accuracy\",color=\"blue\")\n",
        "plt.plot(range(1,epoch+1),evaluation_accuracy,label=\"Evaluation accuracy\",color=\"red\")\n",
        "plt.xlabel(\"Epochs\")\n",
        "plt.ylabel(\"Accuracy\")\n",
        "plt.legend()\n",
        "plt.grid()\n",
        "\n",
        "plt.show()\n"
      ],
      "metadata": {
        "colab": {
          "base_uri": "https://localhost:8080/",
          "height": 1000
        },
        "id": "uH0pJQO_-NGQ",
        "outputId": "d17c5178-eb86-422c-bb1b-43a26c419383"
      },
      "execution_count": 42,
      "outputs": [
        {
          "output_type": "stream",
          "name": "stdout",
          "text": [
            "Cost on training data: 0.761575858724371\n",
            "Accuracy on training data: 34063 / 37800\n",
            "Cost on evaluation data: 0.7913863894900793\n",
            "Accuracy on evaluation data: 3747 / 4200\n",
            "Cost on training data: 0.5746808204324656\n",
            "Accuracy on training data: 34746 / 37800\n",
            "Cost on evaluation data: 0.6180224325650708\n",
            "Accuracy on evaluation data: 3822 / 4200\n",
            "Cost on training data: 0.49942818438368897\n",
            "Accuracy on training data: 35123 / 37800\n",
            "Cost on evaluation data: 0.5528321175675\n",
            "Accuracy on evaluation data: 3854 / 4200\n",
            "Cost on training data: 0.4567433109221721\n",
            "Accuracy on training data: 35321 / 37800\n",
            "Cost on evaluation data: 0.5168851797358528\n",
            "Accuracy on evaluation data: 3874 / 4200\n",
            "Cost on training data: 0.421287569944617\n",
            "Accuracy on training data: 35494 / 37800\n",
            "Cost on evaluation data: 0.49213603748719337\n",
            "Accuracy on evaluation data: 3902 / 4200\n",
            "Cost on training data: 0.3968228454909095\n",
            "Accuracy on training data: 35648 / 37800\n",
            "Cost on evaluation data: 0.4688209128510762\n",
            "Accuracy on evaluation data: 3917 / 4200\n",
            "Cost on training data: 0.37438887004821186\n",
            "Accuracy on training data: 35798 / 37800\n",
            "Cost on evaluation data: 0.4552786300935429\n",
            "Accuracy on evaluation data: 3924 / 4200\n",
            "Cost on training data: 0.3636911100609521\n",
            "Accuracy on training data: 35884 / 37800\n",
            "Cost on evaluation data: 0.44683647370413615\n",
            "Accuracy on evaluation data: 3922 / 4200\n",
            "Cost on training data: 0.34185152685836523\n",
            "Accuracy on training data: 35970 / 37800\n",
            "Cost on evaluation data: 0.4322584394716361\n",
            "Accuracy on evaluation data: 3945 / 4200\n",
            "Cost on training data: 0.329675437276604\n",
            "Accuracy on training data: 36076 / 37800\n",
            "Cost on evaluation data: 0.4227099866980186\n",
            "Accuracy on evaluation data: 3950 / 4200\n"
          ]
        },
        {
          "output_type": "display_data",
          "data": {
            "text/plain": [
              "<Figure size 1000x600 with 2 Axes>"
            ],
            "image/png": "[encoded data removed]"
          },
          "metadata": {}
        }
      ]
    },
    {
      "cell_type": "code",
      "source": [
        "net=Network([784,512,512,10],cost=CrossEntropyCost)\n",
        "evaluation_cost, evaluation_accuracy, training_cost, training_accuracy=net.SGD(training_data, 10, 64, 0.25, lmbda = 0.0,evaluation_data=validation_data,monitor_evaluation_accuracy=True,monitor_evaluation_cost=True,monitor_training_accuracy=True,monitor_training_cost=True)\n",
        "\n",
        "epoch=10\n",
        "import matplotlib.pyplot as plt\n",
        "\n",
        "plt.figure(figsize=(10,6))\n",
        "\n",
        "plt.subplot(1,2,1)\n",
        "plt.plot(range(1,epoch+1),training_cost,label=\"Training cost\",color=\"blue\")\n",
        "plt.plot(range(1,epoch+1),evaluation_cost,label=\"Validation cost\",color=\"red\")\n",
        "plt.xlabel(\"Epochs\")\n",
        "plt.ylabel(\"Cost\")\n",
        "plt.legend()\n",
        "plt.grid()\n",
        "\n",
        "plt.subplot(1,2,2)\n",
        "plt.plot(range(1,epoch+1),training_accuracy,label=\"Training accuracy\",color=\"blue\")\n",
        "plt.plot(range(1,epoch+1),evaluation_accuracy,label=\"Evaluation accuracy\",color=\"red\")\n",
        "plt.xlabel(\"Epochs\")\n",
        "plt.ylabel(\"Accuracy\")\n",
        "plt.legend()\n",
        "plt.grid()\n",
        "\n",
        "plt.show()"
      ],
      "metadata": {
        "colab": {
          "base_uri": "https://localhost:8080/",
          "height": 1000
        },
        "id": "XZ3jp1xQrldI",
        "outputId": "0ce14290-62da-421a-d372-36bc56757a7a"
      },
      "execution_count": 44,
      "outputs": [
        {
          "output_type": "stream",
          "name": "stdout",
          "text": [
            "Cost on training data: 1.1054243291707464\n",
            "Accuracy on training data: 30766 / 37800\n",
            "Cost on evaluation data: 1.136302998850979\n",
            "Accuracy on evaluation data: 3394 / 4200\n",
            "Cost on training data: 0.7145171286339278\n",
            "Accuracy on training data: 33824 / 37800\n",
            "Cost on evaluation data: 0.7557762480571316\n",
            "Accuracy on evaluation data: 3736 / 4200\n",
            "Cost on training data: 0.5624027341502758\n",
            "Accuracy on training data: 34606 / 37800\n",
            "Cost on evaluation data: 0.6003973827791294\n",
            "Accuracy on evaluation data: 3813 / 4200\n",
            "Cost on training data: 0.5397695856960587\n",
            "Accuracy on training data: 34658 / 37800\n",
            "Cost on evaluation data: 0.6018822255774509\n",
            "Accuracy on evaluation data: 3799 / 4200\n",
            "Cost on training data: 0.46100710822682184\n",
            "Accuracy on training data: 35084 / 37800\n",
            "Cost on evaluation data: 0.5111572357943339\n",
            "Accuracy on evaluation data: 3873 / 4200\n",
            "Cost on training data: 0.4231028546910792\n",
            "Accuracy on training data: 35274 / 37800\n",
            "Cost on evaluation data: 0.47048285113174537\n",
            "Accuracy on evaluation data: 3901 / 4200\n",
            "Cost on training data: 0.3792321857925623\n",
            "Accuracy on training data: 35558 / 37800\n",
            "Cost on evaluation data: 0.4318727404056777\n",
            "Accuracy on evaluation data: 3919 / 4200\n",
            "Cost on training data: 0.358919526173255\n",
            "Accuracy on training data: 35714 / 37800\n",
            "Cost on evaluation data: 0.41972070560717006\n",
            "Accuracy on evaluation data: 3924 / 4200\n",
            "Cost on training data: 0.3189333672721709\n",
            "Accuracy on training data: 35901 / 37800\n",
            "Cost on evaluation data: 0.38121174703541233\n",
            "Accuracy on evaluation data: 3947 / 4200\n",
            "Cost on training data: 0.32673036850311066\n",
            "Accuracy on training data: 35831 / 37800\n",
            "Cost on evaluation data: 0.39310455956355833\n",
            "Accuracy on evaluation data: 3952 / 4200\n"
          ]
        },
        {
          "output_type": "display_data",
          "data": {
            "text/plain": [
              "<Figure size 1000x600 with 2 Axes>"
            ],
            "image/png": "[encoded data removed]"
          },
          "metadata": {}
        }
      ]
    },
    {
      "cell_type": "code",
      "source": [],
      "metadata": {
        "id": "AxYOzVt2yzT7"
      },
      "execution_count": null,
      "outputs": []
    }
  ],
  "metadata": {
    "colab": {
      "provenance": []
    },
    "kernelspec": {
      "display_name": "Python 3",
      "name": "python3"
    },
    "language_info": {
      "name": "python"
    }
  },
  "nbformat": 4,
  "nbformat_minor": 0
}